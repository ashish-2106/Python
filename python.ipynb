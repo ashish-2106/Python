{
  "nbformat": 4,
  "nbformat_minor": 0,
  "metadata": {
    "colab": {
      "provenance": [],
      "authorship_tag": "ABX9TyN4r+72bTeaelXaKb5werLt",
      "include_colab_link": true
    },
    "kernelspec": {
      "name": "python3",
      "display_name": "Python 3"
    },
    "language_info": {
      "name": "python"
    }
  },
  "cells": [
    {
      "cell_type": "markdown",
      "metadata": {
        "id": "view-in-github",
        "colab_type": "text"
      },
      "source": [
        "<a href=\"https://colab.research.google.com/github/ashish-2106/Python/blob/main/python.ipynb\" target=\"_parent\"><img src=\"https://colab.research.google.com/assets/colab-badge.svg\" alt=\"Open In Colab\"/></a>"
      ]
    },
    {
      "cell_type": "markdown",
      "source": [
        "##Basics python"
      ],
      "metadata": {
        "id": "TqqFduiWZ3gr"
      }
    },
    {
      "cell_type": "code",
      "execution_count": 1,
      "metadata": {
        "colab": {
          "base_uri": "https://localhost:8080/"
        },
        "id": "FIb4yb4XUL9j",
        "outputId": "3530afb3-d1da-46ac-d12f-c2152638f5f7"
      },
      "outputs": [
        {
          "output_type": "stream",
          "name": "stdout",
          "text": [
            "hello world\n"
          ]
        }
      ],
      "source": [
        "print(\"hello world\")"
      ]
    },
    {
      "cell_type": "code",
      "source": [
        "# hello\n",
        "a=10\n",
        "type(a)"
      ],
      "metadata": {
        "colab": {
          "base_uri": "https://localhost:8080/"
        },
        "id": "P0nkhOswUf2w",
        "outputId": "26d9a033-4b29-4f4f-fb0f-601fda67a2e1"
      },
      "execution_count": 3,
      "outputs": [
        {
          "output_type": "execute_result",
          "data": {
            "text/plain": [
              "int"
            ]
          },
          "metadata": {},
          "execution_count": 3
        }
      ]
    },
    {
      "cell_type": "code",
      "source": [
        "first_name=\"Ashish\"\n",
        "print(first_name)\n",
        "print(type(first_name))"
      ],
      "metadata": {
        "colab": {
          "base_uri": "https://localhost:8080/"
        },
        "id": "_7dC-CXMVM8q",
        "outputId": "4df2806c-c5b2-4483-fdcd-912e84e7099f"
      },
      "execution_count": 5,
      "outputs": [
        {
          "output_type": "stream",
          "name": "stdout",
          "text": [
            "Ashish\n",
            "<class 'str'>\n"
          ]
        }
      ]
    },
    {
      "cell_type": "code",
      "source": [
        "first_name+\" Jhajharia\""
      ],
      "metadata": {
        "colab": {
          "base_uri": "https://localhost:8080/",
          "height": 35
        },
        "id": "GZ7M260zWi3S",
        "outputId": "e7a5210a-43e0-4a38-80d4-e2d7d8da1efb"
      },
      "execution_count": 10,
      "outputs": [
        {
          "output_type": "execute_result",
          "data": {
            "text/plain": [
              "'Ashish Jhajharia'"
            ],
            "application/vnd.google.colaboratory.intrinsic+json": {
              "type": "string"
            }
          },
          "metadata": {},
          "execution_count": 10
        }
      ]
    },
    {
      "cell_type": "code",
      "source": [
        "a=9121.5\n",
        "print(a)\n",
        "print(type(a))"
      ],
      "metadata": {
        "colab": {
          "base_uri": "https://localhost:8080/"
        },
        "id": "weJcwXaWV70I",
        "outputId": "3aabdae0-58a8-4062-8122-bcb956f31f0e"
      },
      "execution_count": 7,
      "outputs": [
        {
          "output_type": "stream",
          "name": "stdout",
          "text": [
            "9121.5\n",
            "<class 'float'>\n"
          ]
        }
      ]
    },
    {
      "cell_type": "code",
      "source": [
        "int(a)"
      ],
      "metadata": {
        "colab": {
          "base_uri": "https://localhost:8080/"
        },
        "id": "O0hRR2EWWCI0",
        "outputId": "7a9a0220-c6d2-486e-f399-11568f0b6688"
      },
      "execution_count": 8,
      "outputs": [
        {
          "output_type": "execute_result",
          "data": {
            "text/plain": [
              "9121"
            ]
          },
          "metadata": {},
          "execution_count": 8
        }
      ]
    },
    {
      "cell_type": "code",
      "source": [
        "z=1.0-3.0j\n",
        "z"
      ],
      "metadata": {
        "colab": {
          "base_uri": "https://localhost:8080/"
        },
        "id": "P4WA0RBvW9U1",
        "outputId": "0970538b-b6bd-47b2-f5ad-6411e44c6979"
      },
      "execution_count": 13,
      "outputs": [
        {
          "output_type": "execute_result",
          "data": {
            "text/plain": [
              "(1-3j)"
            ]
          },
          "metadata": {},
          "execution_count": 13
        }
      ]
    },
    {
      "cell_type": "code",
      "source": [
        "z.real,z.imag"
      ],
      "metadata": {
        "colab": {
          "base_uri": "https://localhost:8080/"
        },
        "id": "raSK0a1sXXQD",
        "outputId": "6773b602-ce23-440a-91c0-f96b35e19ae6"
      },
      "execution_count": 14,
      "outputs": [
        {
          "output_type": "execute_result",
          "data": {
            "text/plain": [
              "(1.0, -3.0)"
            ]
          },
          "metadata": {},
          "execution_count": 14
        }
      ]
    },
    {
      "cell_type": "code",
      "source": [
        "#string formmating\n",
        "first_name=\"Ashish\"\n",
        "last_name=\"Jhajharia\"\n",
        "print(\"My Name is\",first_name,last_name)\n",
        "print(\"My first name is {} and last name is {}\" .format(first_name,last_name))"
      ],
      "metadata": {
        "colab": {
          "base_uri": "https://localhost:8080/"
        },
        "id": "hs_DhrF0YAVz",
        "outputId": "d2f84151-4ec9-45f0-cccc-ae7b12e7203a"
      },
      "execution_count": 16,
      "outputs": [
        {
          "output_type": "stream",
          "name": "stdout",
          "text": [
            "My Name is Ashish Jhajharia\n",
            "My first name is Ashish and last name is Jhajharia\n"
          ]
        }
      ]
    },
    {
      "cell_type": "code",
      "source": [
        "a= int(input(\"Enter first number: \"))\n",
        "b=int(input(\"Enter second Number: \"))\n",
        "print(a+b)"
      ],
      "metadata": {
        "colab": {
          "base_uri": "https://localhost:8080/"
        },
        "id": "wGiUdi7iYWUU",
        "outputId": "493ac928-412d-4525-d3b1-29094df1198a"
      },
      "execution_count": 18,
      "outputs": [
        {
          "output_type": "stream",
          "name": "stdout",
          "text": [
            "Enter first number: 12\n",
            "Enter second Number: 12\n",
            "24\n"
          ]
        }
      ]
    },
    {
      "cell_type": "markdown",
      "source": [
        "##Control Flow"
      ],
      "metadata": {
        "id": "flH87wmQZuXl"
      }
    },
    {
      "cell_type": "code",
      "source": [
        "#if-else\n",
        "a = int(input(\"Enter a number:\"))\n",
        "if(a%2==0):\n",
        "  print(\"The number is even\")\n",
        "else:\n",
        "  print(\"the number is odd\")"
      ],
      "metadata": {
        "colab": {
          "base_uri": "https://localhost:8080/"
        },
        "id": "gpeo_yADZ1Tl",
        "outputId": "9f1ee9d7-0e38-42f4-f856-8d11d74fbb5e"
      },
      "execution_count": 20,
      "outputs": [
        {
          "output_type": "stream",
          "name": "stdout",
          "text": [
            "Enter a number:123\n",
            "the number is odd\n"
          ]
        }
      ]
    },
    {
      "cell_type": "code",
      "source": [
        "#nested\n",
        "a = int(input(\"Enter your age:\"))\n",
        "if(a<18):\n",
        "  print(\"minor age &\")\n",
        "  if(a<14):\n",
        "    print(\"you are in school\")\n",
        "  else:\n",
        "    print(\"you are in college\")\n",
        "elif(a>=18 and a<45):\n",
        "  print(\"midd age\")\n",
        "else:\n",
        "    print(\"senior citizen\")"
      ],
      "metadata": {
        "colab": {
          "base_uri": "https://localhost:8080/"
        },
        "id": "mj6AeFlSbT9Y",
        "outputId": "f4dce0e5-9def-4041-f732-faa07e5aa15d"
      },
      "execution_count": 23,
      "outputs": [
        {
          "output_type": "stream",
          "name": "stdout",
          "text": [
            "Enter your age:45\n",
            "senior citizen\n"
          ]
        }
      ]
    },
    {
      "cell_type": "code",
      "source": [
        "#for loop\n",
        "#find sum of all no at even and odd positions\n",
        "lst = [1,2,3,4,5,6,7]\n",
        "even_sum =0\n",
        "odd_sum =0\n",
        "for i in lst:\n",
        "  if(i%2==0):\n",
        "    even_sum+=i\n",
        "  else:\n",
        "    odd_sum+=i\n",
        "print(\"Even sum is {} and Odd sum is {}\" .format(even_sum,odd_sum))\n",
        ""
      ],
      "metadata": {
        "colab": {
          "base_uri": "https://localhost:8080/"
        },
        "id": "_UdL_GXJdVwg",
        "outputId": "0e7b8e0d-6bc6-4882-de57-2a5ce2675547"
      },
      "execution_count": 24,
      "outputs": [
        {
          "output_type": "stream",
          "name": "stdout",
          "text": [
            "Even sum is 12 and Odd sum is 16\n"
          ]
        }
      ]
    },
    {
      "cell_type": "code",
      "source": [
        "#while loop break\n",
        "x=1\n",
        "while(x<10):\n",
        "  if(x==4):\n",
        "    break\n",
        "  print(x)\n",
        "  x+=1"
      ],
      "metadata": {
        "colab": {
          "base_uri": "https://localhost:8080/"
        },
        "id": "r_FpmCkwf9A1",
        "outputId": "10663fe4-2237-4f79-f11e-618fc98b7c44"
      },
      "execution_count": 27,
      "outputs": [
        {
          "output_type": "stream",
          "name": "stdout",
          "text": [
            "1\n",
            "2\n",
            "3\n"
          ]
        }
      ]
    },
    {
      "cell_type": "code",
      "source": [
        "#while loop continue\n",
        "x=0\n",
        "while(x<10):\n",
        "  x+=1\n",
        "  if(x==4):\n",
        "    continue\n",
        "  print(x)\n",
        ""
      ],
      "metadata": {
        "colab": {
          "base_uri": "https://localhost:8080/"
        },
        "id": "Tkx9cDAJgSAb",
        "outputId": "d11169e3-47b4-4d7b-89f6-d9eb2dea1665"
      },
      "execution_count": 30,
      "outputs": [
        {
          "output_type": "stream",
          "name": "stdout",
          "text": [
            "1\n",
            "2\n",
            "3\n",
            "5\n",
            "6\n",
            "7\n",
            "8\n",
            "9\n",
            "10\n"
          ]
        }
      ]
    },
    {
      "cell_type": "markdown",
      "source": [
        "##Python Operator"
      ],
      "metadata": {
        "id": "9CKa9RYrg68E"
      }
    },
    {
      "cell_type": "code",
      "source": [
        "bool(0)"
      ],
      "metadata": {
        "colab": {
          "base_uri": "https://localhost:8080/"
        },
        "id": "EPW2fKXJhA4j",
        "outputId": "0690dd4f-bcd7-460e-ba6e-fd6e9ac73317"
      },
      "execution_count": 34,
      "outputs": [
        {
          "output_type": "execute_result",
          "data": {
            "text/plain": [
              "True"
            ]
          },
          "metadata": {},
          "execution_count": 34
        }
      ]
    },
    {
      "cell_type": "code",
      "source": [
        "bool(1)"
      ],
      "metadata": {
        "colab": {
          "base_uri": "https://localhost:8080/"
        },
        "id": "7uueRM1iiEW8",
        "outputId": "ade9bc04-4c21-4880-e4be-1f3bcc9c8cac"
      },
      "execution_count": 35,
      "outputs": [
        {
          "output_type": "execute_result",
          "data": {
            "text/plain": [
              "True"
            ]
          },
          "metadata": {},
          "execution_count": 35
        }
      ]
    },
    {
      "cell_type": "code",
      "source": [
        "#logical operators -> and | or | not\n",
        "a=True\n",
        "b=False\n",
        "print(a and b)\n",
        "print(a or b)\n",
        "print(not a)"
      ],
      "metadata": {
        "colab": {
          "base_uri": "https://localhost:8080/"
        },
        "id": "gnnNE79mkCN1",
        "outputId": "8faa0dd2-556e-4333-f83f-d18568aecfdf"
      },
      "execution_count": 36,
      "outputs": [
        {
          "output_type": "stream",
          "name": "stdout",
          "text": [
            "False\n",
            "True\n",
            "False\n"
          ]
        }
      ]
    },
    {
      "cell_type": "code",
      "source": [
        "age = int(input(\"enter yor age:\"))\n",
        "if(age<18 or age>35):\n",
        "  print(\"successful\")\n",
        "else:\n",
        "  print(\"not\")"
      ],
      "metadata": {
        "colab": {
          "base_uri": "https://localhost:8080/"
        },
        "id": "XlbwQLCDlKKE",
        "outputId": "55269c77-0490-4c67-c5d9-bbe03992f02d"
      },
      "execution_count": 38,
      "outputs": [
        {
          "output_type": "stream",
          "name": "stdout",
          "text": [
            "enter yor age:23\n",
            "not\n"
          ]
        }
      ]
    },
    {
      "cell_type": "code",
      "source": [
        "#Equality Operator -> is | is not | == | !=\n",
        "# '==' checks the values are same or not\n",
        "# 'is' checks the memory address of both are same or not"
      ],
      "metadata": {
        "id": "CzPwW8YBm3Md"
      },
      "execution_count": 39,
      "outputs": []
    },
    {
      "cell_type": "code",
      "source": [
        "a=\"ashish\"\n",
        "b=\"jhajharia\"\n",
        "a==b"
      ],
      "metadata": {
        "colab": {
          "base_uri": "https://localhost:8080/"
        },
        "id": "wSVcdqBWnCQY",
        "outputId": "1899e067-0b1d-460d-a845-b9965cd4b173"
      },
      "execution_count": 40,
      "outputs": [
        {
          "output_type": "execute_result",
          "data": {
            "text/plain": [
              "False"
            ]
          },
          "metadata": {},
          "execution_count": 40
        }
      ]
    },
    {
      "cell_type": "code",
      "source": [
        "a = \"ashish\"\n",
        "b = \"ashish\"\n",
        "print(id(a))\n",
        "print(id(b))"
      ],
      "metadata": {
        "colab": {
          "base_uri": "https://localhost:8080/"
        },
        "id": "B43oT6Vzni7r",
        "outputId": "d21d499b-e9c0-4a08-92c8-fa5f25f781ed"
      },
      "execution_count": 41,
      "outputs": [
        {
          "output_type": "stream",
          "name": "stdout",
          "text": [
            "140628162419408\n",
            "140628162419408\n"
          ]
        }
      ]
    },
    {
      "cell_type": "code",
      "source": [
        "a is b"
      ],
      "metadata": {
        "colab": {
          "base_uri": "https://localhost:8080/"
        },
        "id": "Vz1Dn7SAnxlN",
        "outputId": "900276ce-92e1-490d-d5e5-3895828b5a0c"
      },
      "execution_count": 42,
      "outputs": [
        {
          "output_type": "execute_result",
          "data": {
            "text/plain": [
              "True"
            ]
          },
          "metadata": {},
          "execution_count": 42
        }
      ]
    },
    {
      "cell_type": "code",
      "source": [
        "a==b"
      ],
      "metadata": {
        "colab": {
          "base_uri": "https://localhost:8080/"
        },
        "id": "gx37uK5Zny__",
        "outputId": "c18bdac7-2754-4c56-e991-9acd33c69735"
      },
      "execution_count": 43,
      "outputs": [
        {
          "output_type": "execute_result",
          "data": {
            "text/plain": [
              "True"
            ]
          },
          "metadata": {},
          "execution_count": 43
        }
      ]
    },
    {
      "cell_type": "code",
      "source": [
        "lst =[1,2,3]\n",
        "lst1=[1,2,3]\n",
        "print(id(lst))\n",
        "print(id(lst1))"
      ],
      "metadata": {
        "colab": {
          "base_uri": "https://localhost:8080/"
        },
        "id": "V-6pci5Vn0Jy",
        "outputId": "9b8f2eaa-8f04-4a73-c505-6c65be5df70f"
      },
      "execution_count": 45,
      "outputs": [
        {
          "output_type": "stream",
          "name": "stdout",
          "text": [
            "140628154189184\n",
            "140628153946496\n"
          ]
        }
      ]
    },
    {
      "cell_type": "code",
      "source": [
        "lst is lst1"
      ],
      "metadata": {
        "colab": {
          "base_uri": "https://localhost:8080/"
        },
        "id": "yyvDOzZ5oF1D",
        "outputId": "a7eb194f-301d-4a90-8e28-0cf6fb815dcd"
      },
      "execution_count": 46,
      "outputs": [
        {
          "output_type": "execute_result",
          "data": {
            "text/plain": [
              "False"
            ]
          },
          "metadata": {},
          "execution_count": 46
        }
      ]
    },
    {
      "cell_type": "code",
      "source": [
        "lst == lst1"
      ],
      "metadata": {
        "colab": {
          "base_uri": "https://localhost:8080/"
        },
        "id": "BiWZp68IoIpm",
        "outputId": "046f67bd-524f-47ea-cb61-db3c0af4eab2"
      },
      "execution_count": 47,
      "outputs": [
        {
          "output_type": "execute_result",
          "data": {
            "text/plain": [
              "True"
            ]
          },
          "metadata": {},
          "execution_count": 47
        }
      ]
    },
    {
      "cell_type": "code",
      "source": [
        "\"ashish\"!=\"ashish\""
      ],
      "metadata": {
        "colab": {
          "base_uri": "https://localhost:8080/"
        },
        "id": "BI9IEYOcoKmJ",
        "outputId": "7cc4325c-cb5d-4157-da29-2cceb3f52f4f"
      },
      "execution_count": 48,
      "outputs": [
        {
          "output_type": "execute_result",
          "data": {
            "text/plain": [
              "False"
            ]
          },
          "metadata": {},
          "execution_count": 48
        }
      ]
    },
    {
      "cell_type": "code",
      "source": [
        "#Comparison Operators ->  < | <= | > | >="
      ],
      "metadata": {
        "id": "AG3CyA0OoYkj"
      },
      "execution_count": 49,
      "outputs": []
    },
    {
      "cell_type": "code",
      "source": [
        "mark = float(input(\"Enter your marks:\"))\n",
        "if(mark>=35):\n",
        "  print(\"pass\")\n",
        "  if(mark>50 and mark<70):\n",
        "    print(\"First\")\n",
        "else:\n",
        "  print(\"fail\")"
      ],
      "metadata": {
        "colab": {
          "base_uri": "https://localhost:8080/"
        },
        "id": "hJSQpl2-o-8w",
        "outputId": "e047685d-d95c-469e-b899-bf0661794da5"
      },
      "execution_count": 51,
      "outputs": [
        {
          "output_type": "stream",
          "name": "stdout",
          "text": [
            "Enter your marks:60\n",
            "pass\n",
            "First\n"
          ]
        }
      ]
    },
    {
      "cell_type": "code",
      "source": [
        "#Arithmetic Operators ->  + | - | * | / | // | %"
      ],
      "metadata": {
        "id": "WPZRgRGjpfOg"
      },
      "execution_count": null,
      "outputs": []
    },
    {
      "cell_type": "code",
      "source": [
        "45//5  #interger division"
      ],
      "metadata": {
        "colab": {
          "base_uri": "https://localhost:8080/"
        },
        "id": "yJViOxl3qFbE",
        "outputId": "dd3992fa-780a-46b0-8743-9e435536c46f"
      },
      "execution_count": 52,
      "outputs": [
        {
          "output_type": "execute_result",
          "data": {
            "text/plain": [
              "9"
            ]
          },
          "metadata": {},
          "execution_count": 52
        }
      ]
    },
    {
      "cell_type": "code",
      "source": [
        "45%6 #remainder"
      ],
      "metadata": {
        "colab": {
          "base_uri": "https://localhost:8080/"
        },
        "id": "7t4irZs0qHOF",
        "outputId": "402db7f2-ef47-42c7-dddb-fe1e20466637"
      },
      "execution_count": 53,
      "outputs": [
        {
          "output_type": "execute_result",
          "data": {
            "text/plain": [
              "3"
            ]
          },
          "metadata": {},
          "execution_count": 53
        }
      ]
    },
    {
      "cell_type": "code",
      "source": [],
      "metadata": {
        "id": "r39jG8jqqM7K"
      },
      "execution_count": null,
      "outputs": []
    }
  ]
}